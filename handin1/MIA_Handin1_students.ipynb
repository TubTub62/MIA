{
  "cells": [
    {
      "cell_type": "markdown",
      "metadata": {
        "colab_type": "text",
        "id": "-ODUfSUC2yu2"
      },
      "source": [
        "# Preliminaries"
      ]
    },
    {
      "cell_type": "markdown",
      "metadata": {
        "colab_type": "text",
        "id": "BDLcaha_XFqn"
      },
      "source": [
        "## Mount Google drive"
      ]
    },
    {
      "cell_type": "code",
      "execution_count": null,
      "metadata": {
        "colab": {},
        "colab_type": "code",
        "id": "G6r73VTq34EU"
      },
      "outputs": [],
      "source": [
        "# change to relevant directory"
      ]
    },
    {
      "cell_type": "markdown",
      "metadata": {
        "colab_type": "text",
        "id": "5q6D-Ncw7WHB"
      },
      "source": [
        "## load all the necessary packages"
      ]
    },
    {
      "cell_type": "code",
      "execution_count": null,
      "metadata": {
        "colab": {},
        "colab_type": "code",
        "id": "N-3qgtyd7VPJ"
      },
      "outputs": [],
      "source": [
        "import numpy as np\n",
        "import matplotlib.pyplot as plt\n",
        "\n",
        "from skimage.io import imread\n",
        "from skimage.transform import radon, rescale"
      ]
    },
    {
      "cell_type": "markdown",
      "metadata": {
        "colab_type": "text",
        "id": "LqwV6nL4WwsX"
      },
      "source": [
        "## Installing missing packages if necessary\n",
        "\n",
        "Check if the package scikit-image is available to you; figure out how you do this and if you cna install it if it's not available to you.\n",
        "\n",
        "Note: Currently, software installations within Google Colaboratory are not persistent, in that you must reinstall libraries every time you (re-)connect to an instance. Since Colab has numerous useful common libraries installed by default, this is less of an issue than it may seem, and installing those libraries which are not pre-installed are easily added in one of a few different ways.\n",
        "\n",
        "You will want to be aware, however, that installing any software which needs to be built from source may take longer than is feasible when connecting/reconnecting to your instance.\n",
        "\n",
        "Colab supports both the pip and apt package managers. Regardless of which you are using, remember to prepend any bash commands with a !."
      ]
    },
    {
      "cell_type": "code",
      "execution_count": null,
      "metadata": {
        "colab": {},
        "colab_type": "code",
        "id": "QxnCMonGX5BY"
      },
      "outputs": [],
      "source": []
    },
    {
      "cell_type": "code",
      "execution_count": null,
      "metadata": {
        "colab": {},
        "colab_type": "code",
        "id": "aLc6DidtCZmB"
      },
      "outputs": [],
      "source": []
    },
    {
      "cell_type": "markdown",
      "metadata": {
        "colab_type": "text",
        "id": "2Iw2agmzWqb4"
      },
      "source": [
        "# Exercise 1\n",
        "# The Radon transform\n",
        "\n",
        "\n",
        "In computed tomography, the tomography reconstruction problem is to obtain\n",
        "a tomographic slice image from a set of projections [1]. A projection is\n",
        "formed by drawing a set of parallel rays through the 2D object of interest,\n",
        "assigning the integral of the object's contrast along each ray to a single\n",
        "pixel in the projection. A single projection of a 2D object is one dimensional.\n",
        "To enable computed tomography reconstruction of the object, several projections\n",
        "must be acquired, each of them corresponding to a different angle between the\n",
        "rays with respect to the object. A collection of projections at several angles\n",
        "is called a sinogram, which is a linear transform of the original image.\n",
        "\n",
        "The inverse Radon transform is used in computed tomography to reconstruct\n",
        "a 2D image from the measured projections (the sinogram). A practical, exact\n",
        "implementation of the inverse Radon transform does not exist, but there are\n",
        "several good approximate algorithms available.\n",
        "\n",
        "As the inverse Radon transform reconstructs the object from a set of\n",
        "projections, the (forward) Radon transform can be used to simulate a\n",
        "tomography experiment.\n",
        "\n",
        "In this hand-in you will perform the Radon transform to simulate a tomography experiment\n",
        "and reconstruct the input image based on the resulting sinogram formed by\n",
        "the simulation. \n",
        "\n"
      ]
    },
    {
      "cell_type": "markdown",
      "metadata": {
        "colab_type": "text",
        "id": "k_IV66wuFutI"
      },
      "source": [
        "## Starting your hand-in\n",
        "\n",
        "1.0 Basics\n",
        "\n",
        "Your first task is to introduce the Radon transform and write down its mathematical formula. Then you are going to play with implementations of it below. "
      ]
    },
    {
      "cell_type": "markdown",
      "metadata": {
        "colab_type": "text",
        "id": "SsLcaWeP4l7t"
      },
      "source": [
        "## Simple things first...\n",
        "\n",
        "1.1 Phantoms and Sinograms\n",
        "\n",
        "1. The sinogram is called so because the Radon transform of a single white pixel on a black\n",
        "background is a sinusoid curve in the sinogram. Generate such phantoms and inspect the\n",
        "corresponding sinograms. \n",
        "Example: \n",
        "\n"
      ]
    },
    {
      "cell_type": "code",
      "execution_count": null,
      "metadata": {
        "colab": {},
        "colab_type": "code",
        "id": "VaSEXzl34_P6"
      },
      "outputs": [],
      "source": [
        "s = (128,128)\n",
        "X = np.zeros(s); \n",
        "X[10,10] = 1; \n",
        "\n",
        "# Draw the image\n",
        "plt.imshow(X)\n",
        "plt.axis(\"off\")\n",
        "plt.show()"
      ]
    },
    {
      "cell_type": "code",
      "execution_count": null,
      "metadata": {
        "colab": {},
        "colab_type": "code",
        "id": "OdXU_Isp5qLa"
      },
      "outputs": [],
      "source": [
        "S = radon(X, circle=False)\n",
        "\n",
        "# Plot the original grayscale image as well as the sinogram of the image\n",
        "\n",
        "fig, (ax1, ax2) = plt.subplots(1, 2, figsize=(8, 4.5))\n",
        "\n",
        "ax1.set_title(\"Original\")\n",
        "ax1.imshow(X, cmap=plt.cm.Greys_r)\n",
        "\n",
        "ax2.set_title(\"Radon transform\\n(Sinogram)\")\n",
        "ax2.set_xlabel(\"Projection angle (deg)\")\n",
        "ax2.set_ylabel(\"Projection position (pixels)\")\n",
        "ax2.imshow(S, cmap=plt.cm.Greys_r,extent=(0, 180, 0, S.shape[0]), aspect='auto')\n",
        "\n",
        "ax1.axis('off')\n",
        "\n",
        "fig.tight_layout()\n",
        "plt.show()"
      ]
    },
    {
      "cell_type": "markdown",
      "metadata": {
        "colab_type": "text",
        "id": "1oMdVtzS4_gK"
      },
      "source": [
        "2. A popular test image in CT is the Shepp-Logan phantom (for more information, see L. A. Shepp and B. F. Logan, “The Fourier reconstruction of a head section,” in IEEE Transactions on Nuclear Science, vol. 21, no. 3, pp. 21-43, June 1974. DOI:10.1109/TNS.1974.6499235 or \n",
        "http://en.wikipedia.org/wiki/Shepp%E2%80%93Logan_phantom). \n",
        "It is available for download in your data folder and is taken from the Wikipedia article (It was drawn by Larry Shepp and Benjamin F. Logan, Uploaded by Bitic - Shapes drawn with TikZ using original definition by Shepp and Logan and colored using Adobe Illustrator by Bitic, 2015-11-25). Load and display the default Shepp-Logan phantom.\n",
        "\n",
        "\n"
      ]
    },
    {
      "cell_type": "code",
      "execution_count": null,
      "metadata": {},
      "outputs": [],
      "source": [
        "\n",
        "shepp = imread('shepp_logan_phantom.png')\n",
        "\n",
        "\n",
        "plt.imshow(shepp)\n",
        "plt.show()"
      ]
    },
    {
      "cell_type": "markdown",
      "metadata": {
        "colab": {},
        "colab_type": "code",
        "id": "kuW0ZRN75_mS"
      },
      "source": [
        "# Load the image\n",
        "shepp = \n",
        "\n",
        "\n",
        "\n",
        "# Draw the image"
      ]
    },
    {
      "cell_type": "markdown",
      "metadata": {
        "colab_type": "text",
        "id": "QkwYMWGzfDk0"
      },
      "source": [
        "Since this is 3 dimensional we slice it to be only two-dimensional."
      ]
    },
    {
      "cell_type": "code",
      "execution_count": null,
      "metadata": {
        "colab": {},
        "colab_type": "code",
        "id": "UyrEyEdpTZeL"
      },
      "outputs": [],
      "source": [
        "# Slice image\n",
        "\n",
        "#shepp_2d = shepp[0]\n",
        "shepp.shape\n",
        "sheppred = shepp[ :, :, 2]\n",
        "plt.imshow(sheppred)\n",
        "plt.show()\n",
        "\n",
        "\n"
      ]
    },
    {
      "cell_type": "code",
      "execution_count": null,
      "metadata": {
        "colab": {},
        "colab_type": "code",
        "id": "KP0RY0A0TNXK"
      },
      "outputs": [],
      "source": [
        "# Explicitly examine shape"
      ]
    },
    {
      "cell_type": "markdown",
      "metadata": {
        "colab_type": "text",
        "id": "J-e4ipMA58rL"
      },
      "source": [
        "3. The Radon transform of an image can be computed using radon. Pick a range of angles\n",
        "such as = 0:179 and generate and display the Radon transform (the sinogram) of the\n",
        "Shepp-Logan phantom. Each column of the sinogram corresponds to a 1D projection\n",
        "at a particular angle (try plotting individual columns to better see how intensity values\n",
        "varies as function of position). Try also using more angles (smaller angular increment).\n",
        "Try to match up features in the sinogram with features of the Shepp-Logan phantom.\n",
        "\n"
      ]
    },
    {
      "cell_type": "code",
      "execution_count": null,
      "metadata": {
        "colab": {},
        "colab_type": "code",
        "id": "PA9t5WNM61Cq"
      },
      "outputs": [],
      "source": [
        "# Perform the radon transform on this image for a range of angels theta between 0 and 180 degrees\n",
        "something = np.linspace(0,180, max(shepp.shape), endpoint=False)\n",
        "S = radon(sheppred, something)\n",
        "\n",
        "# Plot the original grayscale image as well as the sinogram of the image\n",
        "\n",
        "fig, (ax1, ax2) = plt.subplots(1, 2, figsize=(8, 4.5))\n",
        "\n",
        "ax1.set_title(\"Original\")\n",
        "ax1.imshow(sheppred, cmap=plt.cm.Greys_r)\n",
        "\n",
        "ax2.set_title(\"Radon transform\\n(Sinogram)\")\n",
        "ax2.set_xlabel(\"Projection angle (deg)\")\n",
        "ax2.set_ylabel(\"Projection position (pixels)\")\n",
        "\n",
        "ax2.imshow(S, cmap=plt.cm.Greys_r,extent=(0, 180, 0, S.shape[0]), aspect='auto')\n",
        "\n",
        "ax1.axis('off')\n",
        "\n",
        "fig.tight_layout()\n",
        "plt.show()"
      ]
    },
    {
      "cell_type": "code",
      "execution_count": null,
      "metadata": {
        "colab": {},
        "colab_type": "code",
        "id": "ANVuVO9_6-4I"
      },
      "outputs": [],
      "source": [
        "# Plot the original grayscale image as well as the sinogram of the image\n",
        "\n"
      ]
    },
    {
      "cell_type": "markdown",
      "metadata": {
        "colab_type": "text",
        "id": "qdA2fyAG6WP4"
      },
      "source": [
        "4. Try extending the angular range up to 360 degrees. Can you see any symmetries in the sinogram?\n",
        "Do we need 360 degrees data?\n",
        "\n"
      ]
    },
    {
      "cell_type": "code",
      "execution_count": null,
      "metadata": {
        "colab": {},
        "colab_type": "code",
        "id": "FlXdpOO67rQ7"
      },
      "outputs": [],
      "source": [
        "# Perform the radon transform on this image for a range of angels theta between 0 and 360 degrees\n"
      ]
    },
    {
      "cell_type": "code",
      "execution_count": null,
      "metadata": {
        "colab": {},
        "colab_type": "code",
        "id": "ftXU76zd7rXM"
      },
      "outputs": [],
      "source": [
        "# Plot the original grayscale image as well as the sinogram of the image\n",
        "\n"
      ]
    },
    {
      "cell_type": "markdown",
      "metadata": {
        "colab_type": "text",
        "id": "L--_vQ-g6ZdP"
      },
      "source": [
        "5. Due to the many ellipses present in the Shepp-Logan phantom it can be difficult to\n",
        "fully understand the sinogram. A user-defined phantom consisting of a superposition of\n",
        "ellipses can be created. For example a single centered disk in a 501-by-\n",
        "501 image would be a good example. Create this phantom and try to predict what its sinogram will look like. Verify using radon.\n"
      ]
    },
    {
      "cell_type": "code",
      "execution_count": null,
      "metadata": {
        "colab": {},
        "colab_type": "code",
        "id": "jLptHt189I1p"
      },
      "outputs": [],
      "source": [
        "# Make phantom\n",
        "ellipse = imread('ellipse.png')\n",
        "ellipsesliced = ellipse[ :, :, 0]\n",
        "\n",
        "\n",
        "plt.imshow(ellipse)\n",
        "plt.show()\n",
        "print(ellipse.shape)\n",
        "\n",
        "# Draw phantom\n",
        "something = np.linspace(0,180, max(ellipsesliced.shape), endpoint=False)\n",
        "A = radon(ellipsesliced, something)\n",
        "\n",
        "# Plot the original grayscale image as well as the sinogram of the image\n",
        "\n",
        "fig, (ax1, ax2) = plt.subplots(1, 2, figsize=(8, 4.5))\n",
        "\n",
        "ax1.set_title(\"Original\")\n",
        "ax1.imshow(ellipsesliced, cmap=plt.cm.Greys_r)\n",
        "\n",
        "ax2.set_title(\"Radon transform\\n(Sinogram)\")\n",
        "ax2.set_xlabel(\"Projection angle (deg)\")\n",
        "ax2.set_ylabel(\"Projection position (pixels)\")\n",
        "\n",
        "ax2.imshow(A, cmap=plt.cm.Greys_r,extent=(0, 180, 0, A.shape[0]), aspect='auto')\n",
        "\n",
        "ax1.axis('off')\n",
        "\n",
        "fig.tight_layout()\n",
        "plt.show()"
      ]
    },
    {
      "cell_type": "code",
      "execution_count": null,
      "metadata": {
        "colab": {},
        "colab_type": "code",
        "id": "w9Z319ib-qy2"
      },
      "outputs": [],
      "source": [
        "# Calculate the radon transform\n",
        "\n"
      ]
    },
    {
      "cell_type": "code",
      "execution_count": null,
      "metadata": {
        "colab": {},
        "colab_type": "code",
        "id": "w_YKCyeM-d-C"
      },
      "outputs": [],
      "source": [
        "# Plot the original grayscale image as well as the sinogram of the image\n",
        "\n"
      ]
    },
    {
      "cell_type": "markdown",
      "metadata": {
        "colab_type": "text",
        "id": "MNLRwH8_6acz"
      },
      "source": [
        "6. Repeat the experiment with a single disk while changing its parameters to get a larger disk, a disk with changed intensity, an ellipse, a rotated ellipse, and a translated ellipse.\n",
        "\n"
      ]
    },
    {
      "cell_type": "code",
      "execution_count": null,
      "metadata": {
        "colab": {},
        "colab_type": "code",
        "id": "Jtg5ZANm_M8_"
      },
      "outputs": [],
      "source": [
        "# Make another phantom and display it\n",
        "\n",
        "# Make phantom\n",
        "\n",
        "ellipsesliced = img[ :, :, 0]\n",
        "\n",
        "\n",
        "something = np.linspace(0,180, max(ellipsesliced.shape), endpoint=False)\n",
        "A = radon(ellipsesliced, something)\n",
        "\n",
        "# Plot the original grayscale image as well as the sinogram of the image\n",
        "\n",
        "fig, (ax1, ax2) = plt.subplots(1, 2, figsize=(8, 4.5))\n",
        "\n",
        "ax1.set_title(\"Original\")\n",
        "ax1.imshow(ellipsesliced, cmap=plt.cm.Greys_r)\n",
        "\n",
        "ax2.set_title(\"Radon transform\\n(Sinogram)\")\n",
        "ax2.set_xlabel(\"Projection angle (deg)\")\n",
        "ax2.set_ylabel(\"Projection position (pixels)\")\n",
        "\n",
        "ax2.imshow(A, cmap=plt.cm.Greys_r,extent=(0, 180, 0, A.shape[0]), aspect='auto')\n",
        "\n",
        "ax1.axis('off')\n",
        "\n",
        "fig.tight_layout()\n",
        "plt.show()\n",
        "\n",
        "\n",
        "\n"
      ]
    },
    {
      "cell_type": "code",
      "execution_count": null,
      "metadata": {
        "colab": {},
        "colab_type": "code",
        "id": "wldb31Li_NAg"
      },
      "outputs": [],
      "source": [
        "# Calculate the radon transform\n"
      ]
    },
    {
      "cell_type": "code",
      "execution_count": null,
      "metadata": {
        "colab": {},
        "colab_type": "code",
        "id": "-XHo0NG5_iMa"
      },
      "outputs": [],
      "source": [
        "# Plot the original grayscale image as well as the sinogram of the image\n",
        "\n"
      ]
    },
    {
      "cell_type": "markdown",
      "metadata": {
        "colab_type": "text",
        "id": "yAoZe9HR6hmH"
      },
      "source": [
        "7. Describe how the sinogram changes (for example in terms of amplitude, phase, thickness,\n",
        "intensity) as function of the ellipse position, size and orientation."
      ]
    },
    {
      "cell_type": "markdown",
      "metadata": {
        "colab_type": "text",
        "id": "Ex7pb6f6C5G8"
      },
      "source": [
        "## Now on to a bit of mathematics \n",
        "\n",
        "1.2 Linearity of the Radon transform\n",
        "\n",
        "The Radon transform is a linear transform. This means that a sinogram of an image can be\n",
        "decomposed into a sum of sinograms of the various objects in the image.\n",
        "\n",
        "1. Verify analytically that the Radon transform is linear, i.e., that R(ax + by) = aR(x) +\n",
        "bR(y) for two images x and y and constants a and b.\n",
        "\n",
        "2. Verify linearity numerically: Generate two different test images X and Y with a single\n",
        "ellipse in each. Generate and display the sinogram of each. Generate also the sinogram\n",
        "of a linear combination of X and Y, for example, Z = 3*X + 2*Y. Demonstrate that the\n",
        "sinogram of Z equals the same linear combination of the sinograms of X and Y."
      ]
    },
    {
      "cell_type": "code",
      "execution_count": null,
      "metadata": {
        "colab": {},
        "colab_type": "code",
        "id": "IHKnTPVTD1gS"
      },
      "outputs": [],
      "source": [
        "# Re-use or peform two transforms\n",
        "import skimage.draw as sk\n",
        "\n",
        "\n",
        "img1 = np.zeros((512,512), dtype=float)\n",
        "xx, yy = sk.ellipse(256, 256, 200, 50)\n",
        "\n",
        "img1[xx,yy] = 1\n",
        "\n",
        "img2 = np.zeros((512,512), dtype=float)\n",
        "xx2, yy2 = sk.ellipse(256, 256, 50, 200)\n",
        "\n",
        "img2[xx2,yy2] = 1\n",
        "\n",
        "fig, (ax1,ax2) = plt.subplots(1,2, figsize=(12,4.5))\n",
        "\n",
        "#ax1.imshow(img1)\n",
        "#ax2.imshow(img2)\n",
        "\n",
        "#plt.show()\n",
        "\n",
        "\n",
        "\n",
        "\n",
        "\n",
        "\n",
        "\n",
        "\n",
        "\n",
        "\n"
      ]
    },
    {
      "cell_type": "code",
      "execution_count": null,
      "metadata": {
        "colab": {},
        "colab_type": "code",
        "id": "Vp728zhwEFgA"
      },
      "outputs": [],
      "source": [
        "import skimage.draw as sk\n",
        "\n",
        "#Drawing ellipses\n",
        "img1 = np.zeros((512,512), dtype=float)\n",
        "xx, yy = sk.ellipse(256, 256, 200, 50)\n",
        "\n",
        "img1[xx,yy] = 1\n",
        "\n",
        "img2 = np.zeros((512,512), dtype=float)\n",
        "xx2, yy2 = sk.ellipse(256, 256, 50, 200)\n",
        "\n",
        "img2[xx2,yy2] = 1\n",
        "\n",
        "fig, (ax1,ax2) = plt.subplots(1,2, figsize=(12,4.5))\n",
        "something1 = np.linspace(0,180, max(img1.shape), endpoint=False)\n",
        "something2 = np.linspace(0,180, max(img2.shape), endpoint=False)\n",
        "\n",
        "ax1.imshow(img1, cmap=plt.cm.Greys_r)\n",
        "ax2.imshow(img2, cmap=plt.cm.Greys_r)\n",
        "\n",
        "plt.show()\n",
        "\n",
        "fig, (ax1,ax2) = plt.subplots(1,2, figsize=(12,4.5))\n",
        "\n",
        "A1 = radon(img1,something1)\n",
        "B1 = radon(img2,something2)\n",
        "\n",
        "ax1.imshow(A1, cmap=plt.cm.Greys_r)\n",
        "ax2.imshow(B1, cmap=plt.cm.Greys_r)\n",
        "\n",
        "plt.show()\n",
        "\n",
        "\n",
        "figc, (ax1c, ax2c) = plt.subplots(1, 2, figsize=(12, 4.5))\n",
        "\n",
        "A = radon(img1,something1) + radon(img2,something2)\n",
        "B = radon(img1 + img2,something1)\n",
        "\n",
        "ax1c.imshow(A, cmap=plt.cm.Greys_r)\n",
        "ax2c.imshow(B, cmap=plt.cm.Greys_r)\n",
        "\n",
        "plt.show()\n",
        "\n",
        "fig, (ax1, ax2) = plt.subplots(1, 2, figsize=(12, 4.5))\n",
        "\n",
        "ax1.imshow(A, cmap=plt.cm.Greys_r)\n",
        "ax2.imshow(B, cmap=plt.cm.Greys_r)\n",
        "\n",
        "plt.show()\n",
        "\n"
      ]
    },
    {
      "cell_type": "code",
      "execution_count": null,
      "metadata": {
        "colab": {},
        "colab_type": "code",
        "id": "7kVwu3QGDE9i"
      },
      "outputs": [],
      "source": [
        "# Plot the original grayscale image as well as the sinogram of the image\n"
      ]
    },
    {
      "cell_type": "markdown",
      "metadata": {
        "colab_type": "text",
        "id": "LMUb41R5EvRF"
      },
      "source": [
        "What happened here? Explain!"
      ]
    },
    {
      "cell_type": "markdown",
      "metadata": {
        "colab_type": "text",
        "id": "QOnqWfJNY97T"
      },
      "source": [
        "# Exercise 2\n",
        "# The Filtered Back-Projection\n",
        "\n",
        "The mathematical foundation of the filtered back projection is the Fourier\n",
        "slice theorem [2]. It uses Fourier transform of the projection and\n",
        "interpolation in Fourier space to obtain the 2D Fourier transform of the\n",
        "image, which is then inverted to form the reconstructed image. The filtered\n",
        "back projection is among the fastest methods of performing the inverse\n",
        "Radon transform. \n"
      ]
    },
    {
      "cell_type": "markdown",
      "metadata": {
        "colab_type": "text",
        "id": "LQbGheffmNJm"
      },
      "source": [
        "2.0 Explain the theory behing filtered back-projection as it was introduced in the lecture.\n"
      ]
    },
    {
      "cell_type": "markdown",
      "metadata": {
        "colab_type": "text",
        "id": "DtNV7RAzFEU9"
      },
      "source": [
        "2.1 Reconstruction\n",
        "\n",
        "1. Generate clean and noisy projection data. You can do this in several ways. You can subsample the problem, so sample with less degrees. You can also try to simulate noise in the sinogram space, which can be done by applying Poisson noise to\n",
        "the clean transmission sinogram.\n",
        "\n",
        "\n"
      ]
    },
    {
      "cell_type": "code",
      "execution_count": null,
      "metadata": {
        "colab": {},
        "colab_type": "code",
        "id": "Rs2PQ2NFVmnJ"
      },
      "outputs": [],
      "source": [
        "# Subsampling the problem\n",
        "\n"
      ]
    },
    {
      "cell_type": "markdown",
      "metadata": {
        "colab_type": "text",
        "id": "EEOysG9MPjb5"
      },
      "source": [
        "OR"
      ]
    },
    {
      "cell_type": "code",
      "execution_count": null,
      "metadata": {
        "colab": {},
        "colab_type": "code",
        "id": "OdA1xnfTVmyY"
      },
      "outputs": [],
      "source": [
        "# Adding Poisson noise to the sinogram\n",
        "\n",
        "import skimage.draw as sk\n",
        "import skimage\n",
        "\n",
        "\n",
        "ellipse = np.zeros((512,512), dtype=float)\n",
        "xx, yy = sk.ellipse(256, 256, 200, 150)\n",
        "ellipse[xx,yy] = 1\n",
        "\n",
        "\n",
        "\n",
        "\n",
        "\n",
        "imp = (imread('shepp_logan_phantom.png'))\n",
        "original = imp[:,:,0]\n",
        "\n",
        "ellipse_noise = np.random.poisson(original)\n",
        "for x in range(15):\n",
        "    ellipse_noise = np.random.poisson(ellipse_noise)\n",
        "\n",
        "\n",
        "print(original.shape)\n",
        "noise = skimage.measure.block_reduce(original, block_size=(10,10) ,func=np.max)\n",
        "\n",
        "\n",
        "\n",
        "fig, (ax1,ax2) = plt.subplots(1,2, figsize=(12,4.5))\n",
        "ax1.imshow(original, cmap=plt.cm.Greys_r)\n",
        "ax2.imshow(noise, cmap=plt.cm.Greys_r)\n",
        "plt.show()\n",
        "\n",
        "fig, (ax1,ax2) = plt.subplots(1,2, figsize=(12,4.5))\n",
        "ax1.imshow(original, cmap=plt.cm.Greys_r)\n",
        "ax2.imshow(ellipse_noise, cmap=plt.cm.Greys_r)\n",
        "plt.show()\n",
        "\n"
      ]
    },
    {
      "cell_type": "markdown",
      "metadata": {
        "colab_type": "text",
        "id": "XKBiU3x3FJme"
      },
      "source": [
        "2. Compute an FBP reconstruction from the clean and noisy projection data using iradon.\n",
        "Check the help of iradon to specify inputs. Other inputs can be set to their defaults.\n",
        "\n"
      ]
    },
    {
      "cell_type": "code",
      "execution_count": null,
      "metadata": {
        "colab": {},
        "colab_type": "code",
        "id": "qQyaI5XcXIFR"
      },
      "outputs": [],
      "source": [
        "from skimage.transform import iradon\n",
        "# Do the FBP reconstcutions of the clean and noisy data; calculate a measure of error for the different reconstructions\n",
        "\n",
        "o_theta = np.linspace(0., 180., max(original.shape), endpoint=False)\n",
        "n_theta = np.linspace(0., 180., max(noise.shape), endpoint=False)\n",
        "\n",
        "r_orignal = radon(original, theta=o_theta)\n",
        "r_noise = radon(noise, theta=n_theta)\n",
        "\n",
        "#original\n",
        "fig, (ax1,ax2) = plt.subplots(1,2, figsize=(12,4.5))\n",
        "ax1.set_title(\"Original\")\n",
        "ax1.imshow(original, cmap=plt.cm.Greys_r)\n",
        "ax2.set_title(\"Subsampled\")\n",
        "ax2.imshow(noise, cmap=plt.cm.Greys_r)\n",
        "plt.show()\n",
        "\n",
        "#radon transform\n",
        "fig, (ax1,ax2) = plt.subplots(1,2, figsize=(12,4.5))\n",
        "ax1.set_title(\"Original Radon Transform\")\n",
        "ax1.imshow(r_orignal, cmap=plt.cm.Greys_r)\n",
        "ax2.set_title(\"Subsampled Radon Transform\")\n",
        "ax2.imshow(r_noise, cmap=plt.cm.Greys_r)\n",
        "plt.show()\n",
        "\n",
        "#inverse radon\n",
        "\n",
        "filters = ['ramp', 'shepp-logan', 'cosine', 'hamming', 'hann']\n",
        "for x, filter in enumerate(filters):\n",
        "    ir_original = iradon(r_orignal, theta=o_theta, filter_name=filter)\n",
        "    ir_noise = iradon(r_noise, theta=n_theta, filter_name=filter)\n",
        "\n",
        "    error_orignal = ir_original - original\n",
        "    error_noise = ir_noise - noise\n",
        "\n",
        "    fig, (ax1,ax2) = plt.subplots(1,2, figsize=(12,4.5))\n",
        "    ax1.set_title(f\"Original FBP with {filter} filter\")\n",
        "    ax1.imshow(ir_original, cmap=plt.cm.Greys_r)\n",
        "    ax2.set_title(f\"Subsampled FBP with {filter} filter\")\n",
        "    ax2.imshow(ir_noise, cmap=plt.cm.Greys_r)\n",
        "    plt.show()\n",
        "    print(f'Original {filter} : {np.sqrt(np.mean(error_orignal**2)):.3g}')\n",
        "    print(f'Noise {filter} : {np.sqrt(np.mean(error_noise**2)):.3g}')\n",
        "\n",
        "er = radon(original, theta=o_theta)\n",
        "ern = radon(ellipse_noise, theta=n_theta)\n",
        "\n",
        "irer = iradon(er, theta=o_theta, filter_name='ramp')\n",
        "irern = iradon(ern, theta=n_theta, filter_name='ramp')\n",
        "\n",
        "error_orignal = irer - original\n",
        "error_noise = irern - ellipse_noise\n",
        "\n",
        "fig, (ax1,ax2) = plt.subplots(1,2, figsize=(12,4.5))\n",
        "ax1.set_title(\"Original FBP with ramp filter\")\n",
        "ax1.imshow(irer, cmap=plt.cm.Greys_r)\n",
        "ax2.set_title(\"Poisson Noise FBP with ramp filter\")\n",
        "ax2.imshow(irern, cmap=plt.cm.Greys_r)\n",
        "plt.show()\n",
        "print(f'Original ramp : {np.sqrt(np.mean(error_orignal**2)):.3g}')\n",
        "print(f'Noise ramp : {np.sqrt(np.mean(error_noise**2)):.3g}')\n",
        "\n"
      ]
    },
    {
      "cell_type": "markdown",
      "metadata": {
        "colab_type": "text",
        "id": "zm45ShnRFJtw"
      },
      "source": [
        "3. Display the reconstructions and compare with the original Shepp-Logan image. Small\n",
        "differences can sometimes be seen clearer by displaying the difference images and/or by\n",
        "displaying only subregions of the full image."
      ]
    },
    {
      "cell_type": "code",
      "execution_count": null,
      "metadata": {
        "colab": {},
        "colab_type": "code",
        "id": "acbyGhLldYhK"
      },
      "outputs": [],
      "source": [
        "# Display reconstructions"
      ]
    },
    {
      "cell_type": "markdown",
      "metadata": {
        "colab_type": "text",
        "id": "TbsUTU_gGxoq"
      },
      "source": [
        "2.2 Changing the Filter\n",
        "\n",
        "1. By default iradon uses the Ram-Lak filter. Experiment with the effects on the reconstruction of using other filters, including the filter 'none', which corresponds to an unfiltered backprojection.\n",
        "\n"
      ]
    },
    {
      "cell_type": "code",
      "execution_count": null,
      "metadata": {
        "colab": {},
        "colab_type": "code",
        "id": "E19BzfSxjNHB"
      },
      "outputs": [],
      "source": [
        "# Use different filters in your reconstructions\n",
        "\n",
        "\n"
      ]
    },
    {
      "cell_type": "code",
      "execution_count": null,
      "metadata": {
        "colab": {},
        "colab_type": "code",
        "id": "RybDatLApGAb"
      },
      "outputs": [],
      "source": [
        "# Display the reconstructions"
      ]
    },
    {
      "cell_type": "markdown",
      "metadata": {
        "colab_type": "text",
        "id": "IOs0SR6ZG5Py"
      },
      "source": [
        "2. Similarly experiment with the effects of using different methods of interpolation used in reconstruction. \n"
      ]
    },
    {
      "cell_type": "code",
      "execution_count": null,
      "metadata": {
        "colab": {},
        "colab_type": "code",
        "id": "6RvE0hG9qXwB"
      },
      "outputs": [],
      "source": [
        "# Try out different interpolatrions"
      ]
    },
    {
      "cell_type": "code",
      "execution_count": null,
      "metadata": {
        "colab": {},
        "colab_type": "code",
        "id": "UMK_jmXDq4bM"
      },
      "outputs": [],
      "source": [
        "# Display the reconstructions with different interpolations"
      ]
    },
    {
      "cell_type": "markdown",
      "metadata": {
        "colab_type": "text",
        "id": "ZNfYERZ7G5aS"
      },
      "source": [
        "\n",
        "3. Re-use the noisy sinogram data from 2.1. Experiment with filter and frequency scaling to get\n",
        "the best reconstruction."
      ]
    },
    {
      "cell_type": "code",
      "execution_count": null,
      "metadata": {
        "colab": {},
        "colab_type": "code",
        "id": "U34eCOVjr843"
      },
      "outputs": [],
      "source": []
    },
    {
      "cell_type": "markdown",
      "metadata": {
        "colab_type": "text",
        "id": "RTVWx1UXHCGA"
      },
      "source": [
        "2.3 Linearity of FBP\n",
        "\n",
        "The FBP is a linear reconstruction algorithm meaning that the complete reconstruction can be\n",
        "obtained as the sum of reconstruction from parts of the data. This can be used in practice to\n",
        "compute the contribution to the reconstruction from each projection as soon as it is acquired,\n",
        "i.e., before the scan is complete.\n",
        "\n",
        "1. Partition the full data set into four partial data sets, e.g., 0-45 degrees, 45-90 degrees, etc. You may also partition in other ways for example by interleaving the four sets. Make the FBP reconstruction from each partial data set, display and comment.\n",
        "\n",
        "\n"
      ]
    },
    {
      "cell_type": "code",
      "execution_count": null,
      "metadata": {
        "colab": {},
        "colab_type": "code",
        "id": "IFC307ULr_9A"
      },
      "outputs": [],
      "source": [
        "# Define ranges of angles\n",
        "\n",
        "\n",
        "# Make the partial sinograms\n",
        "\n",
        "\n",
        "# Make the partial reconstructions\n"
      ]
    },
    {
      "cell_type": "code",
      "execution_count": null,
      "metadata": {
        "colab": {},
        "colab_type": "code",
        "id": "NXtbZEXxsdfC"
      },
      "outputs": [],
      "source": [
        "# Display the partial sinograms"
      ]
    },
    {
      "cell_type": "markdown",
      "metadata": {
        "colab_type": "text",
        "id": "xsm94ObzHT0c"
      },
      "source": [
        "2. Now sum the four reconstructions and compare with the reconstruction from all data.\n"
      ]
    },
    {
      "cell_type": "code",
      "execution_count": null,
      "metadata": {
        "colab": {},
        "colab_type": "code",
        "id": "rLQoyzWDs3AO"
      },
      "outputs": [],
      "source": [
        "# Sum all the partial reconstructions\n"
      ]
    },
    {
      "cell_type": "code",
      "execution_count": null,
      "metadata": {
        "colab": {},
        "colab_type": "code",
        "id": "sSt1NXWvtV7j"
      },
      "outputs": [],
      "source": [
        "# Display the summed reconstruction"
      ]
    },
    {
      "cell_type": "markdown",
      "metadata": {
        "colab_type": "text",
        "id": "n2ne4U3oN70w"
      },
      "source": [
        "What do you see? Is this what you expect? Explain!"
      ]
    },
    {
      "cell_type": "markdown",
      "metadata": {
        "colab_type": "text",
        "id": "LVVS7XA1wHw0"
      },
      "source": [
        "# References\n",
        "\n",
        "For further information on tomographic reconstruction, see\n",
        "\n",
        "[1] AC Kak, M Slaney, \"Principles of Computerized Tomographic Imaging\",\n",
        "       IEEE Press 1988. http://www.slaney.org/pct/pct-toc.html\n",
        "\n",
        "[2] Wikipedia, Radon transform,\n",
        "       https://en.wikipedia.org/wiki/Radon_transform#Relationship_with_the_Fourier_transform\n",
        "\n",
        "\n"
      ]
    }
  ],
  "metadata": {
    "colab": {
      "collapsed_sections": [],
      "name": "MIA_Handin1_students.ipynb",
      "provenance": []
    },
    "kernelspec": {
      "display_name": "Python 3.9.7 64-bit",
      "language": "python",
      "name": "python3"
    },
    "language_info": {
      "codemirror_mode": {
        "name": "ipython",
        "version": 3
      },
      "file_extension": ".py",
      "mimetype": "text/x-python",
      "name": "python",
      "nbconvert_exporter": "python",
      "pygments_lexer": "ipython3",
      "version": "3.9.7"
    },
    "vscode": {
      "interpreter": {
        "hash": "175c005f84c591d6832a36ab0c67fbaf235878c3bb3a6d2c9d72cb175fe08a8f"
      }
    }
  },
  "nbformat": 4,
  "nbformat_minor": 0
}
