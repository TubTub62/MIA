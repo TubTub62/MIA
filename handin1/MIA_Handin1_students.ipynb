{
  "nbformat": 4,
  "nbformat_minor": 0,
  "metadata": {
    "colab": {
      "name": "MIA_Handin1_students.ipynb",
      "provenance": [],
      "collapsed_sections": []
    },
    "kernelspec": {
      "name": "python3",
      "display_name": "Python 3"
    }
  },
  "cells": [
    {
      "cell_type": "markdown",
      "metadata": {
        "id": "-ODUfSUC2yu2",
        "colab_type": "text"
      },
      "source": [
        "# Preliminaries"
      ]
    },
    {
      "cell_type": "markdown",
      "metadata": {
        "id": "BDLcaha_XFqn",
        "colab_type": "text"
      },
      "source": [
        "## Mount Google drive"
      ]
    },
    {
      "cell_type": "code",
      "metadata": {
        "id": "mCY1UKk_3ARY",
        "colab_type": "code",
        "colab": {}
      },
      "source": [
        "import os\n",
        "from google.colab import drive\n",
        "drive.mount('/content/gdrive')"
      ],
      "execution_count": null,
      "outputs": []
    },
    {
      "cell_type": "code",
      "metadata": {
        "id": "G6r73VTq34EU",
        "colab_type": "code",
        "colab": {}
      },
      "source": [
        "# change to relevant directory"
      ],
      "execution_count": null,
      "outputs": []
    },
    {
      "cell_type": "markdown",
      "metadata": {
        "id": "5q6D-Ncw7WHB",
        "colab_type": "text"
      },
      "source": [
        "## load all the necessary packages"
      ]
    },
    {
      "cell_type": "code",
      "metadata": {
        "id": "N-3qgtyd7VPJ",
        "colab_type": "code",
        "colab": {}
      },
      "source": [
        "import numpy as np\n",
        "import matplotlib.pyplot as plt\n",
        "\n",
        "from skimage.io import imread\n",
        "from skimage.transform import radon, rescale"
      ],
      "execution_count": null,
      "outputs": []
    },
    {
      "cell_type": "markdown",
      "metadata": {
        "id": "LqwV6nL4WwsX",
        "colab_type": "text"
      },
      "source": [
        "## Installing missing packages if necessary\n",
        "\n",
        "Check if the package scikit-image is available to you; figure out how you do this and if you cna install it if it's not available to you.\n",
        "\n",
        "Note: Currently, software installations within Google Colaboratory are not persistent, in that you must reinstall libraries every time you (re-)connect to an instance. Since Colab has numerous useful common libraries installed by default, this is less of an issue than it may seem, and installing those libraries which are not pre-installed are easily added in one of a few different ways.\n",
        "\n",
        "You will want to be aware, however, that installing any software which needs to be built from source may take longer than is feasible when connecting/reconnecting to your instance.\n",
        "\n",
        "Colab supports both the pip and apt package managers. Regardless of which you are using, remember to prepend any bash commands with a !."
      ]
    },
    {
      "cell_type": "code",
      "metadata": {
        "id": "QxnCMonGX5BY",
        "colab_type": "code",
        "colab": {}
      },
      "source": [
        ""
      ],
      "execution_count": null,
      "outputs": []
    },
    {
      "cell_type": "code",
      "metadata": {
        "id": "aLc6DidtCZmB",
        "colab_type": "code",
        "colab": {}
      },
      "source": [
        ""
      ],
      "execution_count": null,
      "outputs": []
    },
    {
      "cell_type": "markdown",
      "metadata": {
        "id": "2Iw2agmzWqb4",
        "colab_type": "text"
      },
      "source": [
        "# Exercise 1\n",
        "# The Radon transform\n",
        "\n",
        "\n",
        "In computed tomography, the tomography reconstruction problem is to obtain\n",
        "a tomographic slice image from a set of projections [1]. A projection is\n",
        "formed by drawing a set of parallel rays through the 2D object of interest,\n",
        "assigning the integral of the object's contrast along each ray to a single\n",
        "pixel in the projection. A single projection of a 2D object is one dimensional.\n",
        "To enable computed tomography reconstruction of the object, several projections\n",
        "must be acquired, each of them corresponding to a different angle between the\n",
        "rays with respect to the object. A collection of projections at several angles\n",
        "is called a sinogram, which is a linear transform of the original image.\n",
        "\n",
        "The inverse Radon transform is used in computed tomography to reconstruct\n",
        "a 2D image from the measured projections (the sinogram). A practical, exact\n",
        "implementation of the inverse Radon transform does not exist, but there are\n",
        "several good approximate algorithms available.\n",
        "\n",
        "As the inverse Radon transform reconstructs the object from a set of\n",
        "projections, the (forward) Radon transform can be used to simulate a\n",
        "tomography experiment.\n",
        "\n",
        "In this hand-in you will perform the Radon transform to simulate a tomography experiment\n",
        "and reconstruct the input image based on the resulting sinogram formed by\n",
        "the simulation. \n",
        "\n"
      ]
    },
    {
      "cell_type": "markdown",
      "metadata": {
        "id": "k_IV66wuFutI",
        "colab_type": "text"
      },
      "source": [
        "## Starting your hand-in\n",
        "\n",
        "1.0 Basics\n",
        "\n",
        "Your first task is to introduce the Radon transform and write down its mathematical formula. Then you are going to play with implementations of it below. "
      ]
    },
    {
      "cell_type": "markdown",
      "metadata": {
        "id": "SsLcaWeP4l7t",
        "colab_type": "text"
      },
      "source": [
        "## Simple things first...\n",
        "\n",
        "1.1 Phantoms and Sinograms\n",
        "\n",
        "1. The sinogram is called so because the Radon transform of a single white pixel on a black\n",
        "background is a sinusoid curve in the sinogram. Generate such phantoms and inspect the\n",
        "corresponding sinograms. \n",
        "Example: \n",
        "\n"
      ]
    },
    {
      "cell_type": "code",
      "metadata": {
        "id": "VaSEXzl34_P6",
        "colab_type": "code",
        "colab": {}
      },
      "source": [
        "s = (128,128)\n",
        "X = np.zeros(s); \n",
        "X[10,10] = 1; \n",
        "\n",
        "# Draw the image\n",
        "plt.imshow(X)\n",
        "plt.axis(\"off\")\n",
        "plt.show()"
      ],
      "execution_count": null,
      "outputs": []
    },
    {
      "cell_type": "code",
      "metadata": {
        "id": "OdXU_Isp5qLa",
        "colab_type": "code",
        "colab": {}
      },
      "source": [
        "S = radon(X, circle=False)\n",
        "\n",
        "# Plot the original grayscale image as well as the sinogram of the image\n",
        "\n",
        "fig, (ax1, ax2) = plt.subplots(1, 2, figsize=(8, 4.5))\n",
        "\n",
        "ax1.set_title(\"Original\")\n",
        "ax1.imshow(X, cmap=plt.cm.Greys_r)\n",
        "\n",
        "ax2.set_title(\"Radon transform\\n(Sinogram)\")\n",
        "ax2.set_xlabel(\"Projection angle (deg)\")\n",
        "ax2.set_ylabel(\"Projection position (pixels)\")\n",
        "ax2.imshow(S, cmap=plt.cm.Greys_r,extent=(0, 180, 0, S.shape[0]), aspect='auto')\n",
        "\n",
        "ax1.axis('off')\n",
        "\n",
        "fig.tight_layout()\n",
        "plt.show()"
      ],
      "execution_count": null,
      "outputs": []
    },
    {
      "cell_type": "markdown",
      "metadata": {
        "id": "1oMdVtzS4_gK",
        "colab_type": "text"
      },
      "source": [
        "2. A popular test image in CT is the Shepp-Logan phantom (for more information, see L. A. Shepp and B. F. Logan, “The Fourier reconstruction of a head section,” in IEEE Transactions on Nuclear Science, vol. 21, no. 3, pp. 21-43, June 1974. DOI:10.1109/TNS.1974.6499235 or \n",
        "http://en.wikipedia.org/wiki/Shepp%E2%80%93Logan_phantom). \n",
        "It is available for download in your data folder and is taken from the Wikipedia article (It was drawn by Larry Shepp and Benjamin F. Logan, Uploaded by Bitic - Shapes drawn with TikZ using original definition by Shepp and Logan and colored using Adobe Illustrator by Bitic, 2015-11-25). Load and display the default Shepp-Logan phantom.\n",
        "\n",
        "\n"
      ]
    },
    {
      "cell_type": "code",
      "metadata": {
        "id": "kuW0ZRN75_mS",
        "colab_type": "code",
        "colab": {}
      },
      "source": [
        "# Load the image\n",
        "\n",
        "\n",
        "# Draw the image"
      ],
      "execution_count": null,
      "outputs": []
    },
    {
      "cell_type": "markdown",
      "metadata": {
        "id": "QkwYMWGzfDk0",
        "colab_type": "text"
      },
      "source": [
        "Since this is 3 dimensional we slice it to be only two-dimensional."
      ]
    },
    {
      "cell_type": "code",
      "metadata": {
        "id": "UyrEyEdpTZeL",
        "colab_type": "code",
        "colab": {}
      },
      "source": [
        "# Slice image"
      ],
      "execution_count": null,
      "outputs": []
    },
    {
      "cell_type": "code",
      "metadata": {
        "id": "KP0RY0A0TNXK",
        "colab_type": "code",
        "colab": {}
      },
      "source": [
        "# Explicitly examine shape"
      ],
      "execution_count": null,
      "outputs": []
    },
    {
      "cell_type": "markdown",
      "metadata": {
        "id": "J-e4ipMA58rL",
        "colab_type": "text"
      },
      "source": [
        "3. The Radon transform of an image can be computed using radon. Pick a range of angles\n",
        "such as = 0:179 and generate and display the Radon transform (the sinogram) of the\n",
        "Shepp-Logan phantom. Each column of the sinogram corresponds to a 1D projection\n",
        "at a particular angle (try plotting individual columns to better see how intensity values\n",
        "varies as function of position). Try also using more angles (smaller angular increment).\n",
        "Try to match up features in the sinogram with features of the Shepp-Logan phantom.\n",
        "\n"
      ]
    },
    {
      "cell_type": "code",
      "metadata": {
        "id": "PA9t5WNM61Cq",
        "colab_type": "code",
        "colab": {}
      },
      "source": [
        "# Perform the radon transform on this image for a range of angels theta between 0 and 180 degrees\n"
      ],
      "execution_count": null,
      "outputs": []
    },
    {
      "cell_type": "code",
      "metadata": {
        "id": "ANVuVO9_6-4I",
        "colab_type": "code",
        "colab": {}
      },
      "source": [
        "# Plot the original grayscale image as well as the sinogram of the image\n",
        "\n"
      ],
      "execution_count": null,
      "outputs": []
    },
    {
      "cell_type": "markdown",
      "metadata": {
        "id": "qdA2fyAG6WP4",
        "colab_type": "text"
      },
      "source": [
        "4. Try extending the angular range up to 360 degrees. Can you see any symmetries in the sinogram?\n",
        "Do we need 360 degrees data?\n",
        "\n"
      ]
    },
    {
      "cell_type": "code",
      "metadata": {
        "id": "FlXdpOO67rQ7",
        "colab_type": "code",
        "colab": {}
      },
      "source": [
        "# Perform the radon transform on this image for a range of angels theta between 0 and 360 degrees\n"
      ],
      "execution_count": null,
      "outputs": []
    },
    {
      "cell_type": "code",
      "metadata": {
        "id": "ftXU76zd7rXM",
        "colab_type": "code",
        "colab": {}
      },
      "source": [
        "# Plot the original grayscale image as well as the sinogram of the image\n",
        "\n"
      ],
      "execution_count": null,
      "outputs": []
    },
    {
      "cell_type": "markdown",
      "metadata": {
        "id": "L--_vQ-g6ZdP",
        "colab_type": "text"
      },
      "source": [
        "5. Due to the many ellipses present in the Shepp-Logan phantom it can be difficult to\n",
        "fully understand the sinogram. A user-defined phantom consisting of a superposition of\n",
        "ellipses can be created. For example a single centered disk in a 501-by-\n",
        "501 image would be a good example. Create this phantom and try to predict what its sinogram will look like. Verify using radon.\n"
      ]
    },
    {
      "cell_type": "code",
      "metadata": {
        "id": "jLptHt189I1p",
        "colab_type": "code",
        "colab": {}
      },
      "source": [
        "# Make phantom\n",
        "\n",
        "# Draw phantom"
      ],
      "execution_count": null,
      "outputs": []
    },
    {
      "cell_type": "code",
      "metadata": {
        "id": "w9Z319ib-qy2",
        "colab_type": "code",
        "colab": {}
      },
      "source": [
        "# Calculate the radon transform\n",
        "\n"
      ],
      "execution_count": null,
      "outputs": []
    },
    {
      "cell_type": "code",
      "metadata": {
        "id": "w_YKCyeM-d-C",
        "colab_type": "code",
        "colab": {}
      },
      "source": [
        "# Plot the original grayscale image as well as the sinogram of the image\n",
        "\n"
      ],
      "execution_count": null,
      "outputs": []
    },
    {
      "cell_type": "markdown",
      "metadata": {
        "id": "MNLRwH8_6acz",
        "colab_type": "text"
      },
      "source": [
        "6. Repeat the experiment with a single disk while changing its parameters to get a larger disk, a disk with changed intensity, an ellipse, a rotated ellipse, and a translated ellipse.\n",
        "\n"
      ]
    },
    {
      "cell_type": "code",
      "metadata": {
        "id": "Jtg5ZANm_M8_",
        "colab_type": "code",
        "colab": {}
      },
      "source": [
        "# Make another phantom and display it\n",
        "\n"
      ],
      "execution_count": null,
      "outputs": []
    },
    {
      "cell_type": "code",
      "metadata": {
        "id": "wldb31Li_NAg",
        "colab_type": "code",
        "colab": {}
      },
      "source": [
        "# Calculate the radon transform\n"
      ],
      "execution_count": null,
      "outputs": []
    },
    {
      "cell_type": "code",
      "metadata": {
        "id": "-XHo0NG5_iMa",
        "colab_type": "code",
        "colab": {}
      },
      "source": [
        "# Plot the original grayscale image as well as the sinogram of the image\n",
        "\n"
      ],
      "execution_count": null,
      "outputs": []
    },
    {
      "cell_type": "markdown",
      "metadata": {
        "id": "yAoZe9HR6hmH",
        "colab_type": "text"
      },
      "source": [
        "7. Describe how the sinogram changes (for example in terms of amplitude, phase, thickness,\n",
        "intensity) as function of the ellipse position, size and orientation."
      ]
    },
    {
      "cell_type": "markdown",
      "metadata": {
        "id": "Ex7pb6f6C5G8",
        "colab_type": "text"
      },
      "source": [
        "## Now on to a bit of mathematics \n",
        "\n",
        "1.2 Linearity of the Radon transform\n",
        "\n",
        "The Radon transform is a linear transform. This means that a sinogram of an image can be\n",
        "decomposed into a sum of sinograms of the various objects in the image.\n",
        "\n",
        "1. Verify analytically that the Radon transform is linear, i.e., that R(ax + by) = aR(x) +\n",
        "bR(y) for two images x and y and constants a and b.\n",
        "\n",
        "2. Verify linearity numerically: Generate two different test images X and Y with a single\n",
        "ellipse in each. Generate and display the sinogram of each. Generate also the sinogram\n",
        "of a linear combination of X and Y, for example, Z = 3*X + 2*Y. Demonstrate that the\n",
        "sinogram of Z equals the same linear combination of the sinograms of X and Y."
      ]
    },
    {
      "cell_type": "code",
      "metadata": {
        "id": "IHKnTPVTD1gS",
        "colab_type": "code",
        "colab": {}
      },
      "source": [
        "# Re-use or peform two transforms\n"
      ],
      "execution_count": null,
      "outputs": []
    },
    {
      "cell_type": "code",
      "metadata": {
        "id": "Vp728zhwEFgA",
        "colab_type": "code",
        "colab": {}
      },
      "source": [
        "# Draw the difference image\n"
      ],
      "execution_count": null,
      "outputs": []
    },
    {
      "cell_type": "code",
      "metadata": {
        "id": "7kVwu3QGDE9i",
        "colab_type": "code",
        "colab": {}
      },
      "source": [
        "# Plot the original grayscale image as well as the sinogram of the image\n"
      ],
      "execution_count": null,
      "outputs": []
    },
    {
      "cell_type": "markdown",
      "metadata": {
        "id": "LMUb41R5EvRF",
        "colab_type": "text"
      },
      "source": [
        "What happened here? Explain!"
      ]
    },
    {
      "cell_type": "markdown",
      "metadata": {
        "id": "QOnqWfJNY97T",
        "colab_type": "text"
      },
      "source": [
        "# Exercise 2\n",
        "# The Filtered Back-Projection\n",
        "\n",
        "The mathematical foundation of the filtered back projection is the Fourier\n",
        "slice theorem [2]. It uses Fourier transform of the projection and\n",
        "interpolation in Fourier space to obtain the 2D Fourier transform of the\n",
        "image, which is then inverted to form the reconstructed image. The filtered\n",
        "back projection is among the fastest methods of performing the inverse\n",
        "Radon transform. \n"
      ]
    },
    {
      "cell_type": "markdown",
      "metadata": {
        "id": "LQbGheffmNJm",
        "colab_type": "text"
      },
      "source": [
        "2.0 Explain the theory behing filtered back-projection as it was introduced in the lecture.\n"
      ]
    },
    {
      "cell_type": "markdown",
      "metadata": {
        "id": "DtNV7RAzFEU9",
        "colab_type": "text"
      },
      "source": [
        "2.1 Reconstruction\n",
        "\n",
        "1. Generate clean and noisy projection data. You can do this in several ways. You can subsample the problem, so sample with less degrees. You can also try to simulate noise in the sinogram space, which can be done by applying Poisson noise to\n",
        "the clean transmission sinogram.\n",
        "\n",
        "\n"
      ]
    },
    {
      "cell_type": "code",
      "metadata": {
        "id": "Rs2PQ2NFVmnJ",
        "colab_type": "code",
        "colab": {}
      },
      "source": [
        "# Subsampling the problem\n",
        "\n"
      ],
      "execution_count": null,
      "outputs": []
    },
    {
      "cell_type": "markdown",
      "metadata": {
        "id": "EEOysG9MPjb5",
        "colab_type": "text"
      },
      "source": [
        "OR"
      ]
    },
    {
      "cell_type": "code",
      "metadata": {
        "id": "OdA1xnfTVmyY",
        "colab_type": "code",
        "colab": {}
      },
      "source": [
        "# Adding Poisson noise to the sinogram\n"
      ],
      "execution_count": null,
      "outputs": []
    },
    {
      "cell_type": "markdown",
      "metadata": {
        "id": "XKBiU3x3FJme",
        "colab_type": "text"
      },
      "source": [
        "2. Compute an FBP reconstruction from the clean and noisy projection data using iradon.\n",
        "Check the help of iradon to specify inputs. Other inputs can be set to their defaults.\n",
        "\n"
      ]
    },
    {
      "cell_type": "code",
      "metadata": {
        "id": "qQyaI5XcXIFR",
        "colab_type": "code",
        "colab": {}
      },
      "source": [
        "from skimage.transform import iradon\n",
        "\n",
        "# Do the FBP reconstcutions of the clean and noisy data; calculate a measure of error for the different reconstructions\n",
        "\n",
        "\n",
        "\n"
      ],
      "execution_count": null,
      "outputs": []
    },
    {
      "cell_type": "markdown",
      "metadata": {
        "id": "zm45ShnRFJtw",
        "colab_type": "text"
      },
      "source": [
        "3. Display the reconstructions and compare with the original Shepp-Logan image. Small\n",
        "differences can sometimes be seen clearer by displaying the difference images and/or by\n",
        "displaying only subregions of the full image."
      ]
    },
    {
      "cell_type": "code",
      "metadata": {
        "id": "acbyGhLldYhK",
        "colab_type": "code",
        "colab": {}
      },
      "source": [
        "# Display reconstructions"
      ],
      "execution_count": null,
      "outputs": []
    },
    {
      "cell_type": "markdown",
      "metadata": {
        "id": "TbsUTU_gGxoq",
        "colab_type": "text"
      },
      "source": [
        "2.2 Changing the Filter\n",
        "\n",
        "1. By default iradon uses the Ram-Lak filter. Experiment with the effects on the reconstruction of using other filters, including the filter 'none', which corresponds to an unfiltered backprojection.\n",
        "\n"
      ]
    },
    {
      "cell_type": "code",
      "metadata": {
        "id": "E19BzfSxjNHB",
        "colab_type": "code",
        "colab": {}
      },
      "source": [
        "# Use different filters in your reconstructions\n",
        "\n",
        "\n"
      ],
      "execution_count": null,
      "outputs": []
    },
    {
      "cell_type": "code",
      "metadata": {
        "id": "RybDatLApGAb",
        "colab_type": "code",
        "colab": {}
      },
      "source": [
        "# Display the reconstructions"
      ],
      "execution_count": null,
      "outputs": []
    },
    {
      "cell_type": "markdown",
      "metadata": {
        "id": "IOs0SR6ZG5Py",
        "colab_type": "text"
      },
      "source": [
        "2. Similarly experiment with the effects of using different methods of interpolation used in reconstruction. \n"
      ]
    },
    {
      "cell_type": "code",
      "metadata": {
        "id": "6RvE0hG9qXwB",
        "colab_type": "code",
        "colab": {}
      },
      "source": [
        "# Try out different interpolatrions"
      ],
      "execution_count": null,
      "outputs": []
    },
    {
      "cell_type": "code",
      "metadata": {
        "id": "UMK_jmXDq4bM",
        "colab_type": "code",
        "colab": {}
      },
      "source": [
        "# Display the reconstructions with different interpolations"
      ],
      "execution_count": null,
      "outputs": []
    },
    {
      "cell_type": "markdown",
      "metadata": {
        "id": "ZNfYERZ7G5aS",
        "colab_type": "text"
      },
      "source": [
        "\n",
        "3. Re-use the noisy sinogram data from 2.1. Experiment with filter and frequency scaling to get\n",
        "the best reconstruction."
      ]
    },
    {
      "cell_type": "code",
      "metadata": {
        "id": "U34eCOVjr843",
        "colab_type": "code",
        "colab": {}
      },
      "source": [
        ""
      ],
      "execution_count": null,
      "outputs": []
    },
    {
      "cell_type": "markdown",
      "metadata": {
        "id": "RTVWx1UXHCGA",
        "colab_type": "text"
      },
      "source": [
        "2.3 Linearity of FBP\n",
        "\n",
        "The FBP is a linear reconstruction algorithm meaning that the complete reconstruction can be\n",
        "obtained as the sum of reconstruction from parts of the data. This can be used in practice to\n",
        "compute the contribution to the reconstruction from each projection as soon as it is acquired,\n",
        "i.e., before the scan is complete.\n",
        "\n",
        "1. Partition the full data set into four partial data sets, e.g., 0-45 degrees, 45-90 degrees, etc. You may also partition in other ways for example by interleaving the four sets. Make the FBP reconstruction from each partial data set, display and comment.\n",
        "\n",
        "\n"
      ]
    },
    {
      "cell_type": "code",
      "metadata": {
        "id": "IFC307ULr_9A",
        "colab_type": "code",
        "colab": {}
      },
      "source": [
        "# Define ranges of angles\n",
        "\n",
        "\n",
        "# Make the partial sinograms\n",
        "\n",
        "\n",
        "# Make the partial reconstructions\n"
      ],
      "execution_count": null,
      "outputs": []
    },
    {
      "cell_type": "code",
      "metadata": {
        "id": "NXtbZEXxsdfC",
        "colab_type": "code",
        "colab": {}
      },
      "source": [
        "# Display the partial sinograms"
      ],
      "execution_count": null,
      "outputs": []
    },
    {
      "cell_type": "markdown",
      "metadata": {
        "id": "xsm94ObzHT0c",
        "colab_type": "text"
      },
      "source": [
        "2. Now sum the four reconstructions and compare with the reconstruction from all data.\n"
      ]
    },
    {
      "cell_type": "code",
      "metadata": {
        "id": "rLQoyzWDs3AO",
        "colab_type": "code",
        "colab": {}
      },
      "source": [
        "# Sum all the partial reconstructions\n"
      ],
      "execution_count": null,
      "outputs": []
    },
    {
      "cell_type": "code",
      "metadata": {
        "id": "sSt1NXWvtV7j",
        "colab_type": "code",
        "colab": {}
      },
      "source": [
        "# Display the summed reconstruction"
      ],
      "execution_count": null,
      "outputs": []
    },
    {
      "cell_type": "markdown",
      "metadata": {
        "id": "n2ne4U3oN70w",
        "colab_type": "text"
      },
      "source": [
        "What do you see? Is this what you expect? Explain!"
      ]
    },
    {
      "cell_type": "markdown",
      "metadata": {
        "id": "LVVS7XA1wHw0",
        "colab_type": "text"
      },
      "source": [
        "# References\n",
        "\n",
        "For further information on tomographic reconstruction, see\n",
        "\n",
        "[1] AC Kak, M Slaney, \"Principles of Computerized Tomographic Imaging\",\n",
        "       IEEE Press 1988. http://www.slaney.org/pct/pct-toc.html\n",
        "\n",
        "[2] Wikipedia, Radon transform,\n",
        "       https://en.wikipedia.org/wiki/Radon_transform#Relationship_with_the_Fourier_transform\n",
        "\n",
        "\n"
      ]
    }
  ]
}