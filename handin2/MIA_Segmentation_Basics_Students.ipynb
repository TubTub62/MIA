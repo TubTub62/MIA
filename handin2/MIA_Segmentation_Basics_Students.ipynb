{
 "cells": [
  {
   "cell_type": "markdown",
   "metadata": {},
   "source": [
    "# Medical Image Segmentation: Basics"
   ]
  },
  {
   "cell_type": "markdown",
   "metadata": {},
   "source": [
    "Please first check if matplotlib and scipy packages are installed.\n",
    "Several basic tools exist in medical image segmentation. Even if you use an advanced machine learning-based algorithm for segmentation, you will certainly need these tools. In this hand-in, you will be asked to implement image thresholding, connected component decomposition, and morphological operations. \n",
    "\n",
    "Note that you are ALLOWED to use functions from scipy, matplotlib, and numpy Python packages.\n",
    "\n",
    "During the execution of each subtask, you will program individual functions that can be used in the following subtasks."
   ]
  },
  {
   "cell_type": "markdown",
   "metadata": {},
   "source": [
    "# Exercise 1"
   ]
  },
  {
   "cell_type": "markdown",
   "metadata": {},
   "source": [
    "The function below will download and visualize a cross-section of a lung computed tomography image with lungs segmented. Please be sure that you correctly specified the path to the data for this assignment."
   ]
  },
  {
   "cell_type": "code",
   "execution_count": null,
   "metadata": {
    "scrolled": false
   },
   "outputs": [],
   "source": [
    "import matplotlib.pyplot as plt\n",
    "import numpy as np\n",
    "#matplotlib inline \n",
    "folder = 'D:/MIA/handin2/data1'\n",
    "\n",
    "imageArray = np.load(folder + 'lungCTSlice.npy')\n",
    "maskArray = np.load(folder + 'lungMask.npy')\n",
    "plt.figure(1)\n",
    "plt.imshow(imageArray)\n",
    "plt.figure(2)\n",
    "plt.imshow(maskArray)\n",
    "\n"
   ]
  },
  {
   "cell_type": "markdown",
   "metadata": {},
   "source": [
    "## Thresholding"
   ]
  },
  {
   "cell_type": "markdown",
   "metadata": {},
   "source": [
    "Exercise 1.1. Please implement thresholding function and test it on -500, -300, and -150 threshold levels. Please visualize these results of thersholding in the similar way the lungMask.npy is visualized at the description of the assignment."
   ]
  },
  {
   "cell_type": "code",
   "execution_count": null,
   "metadata": {},
   "outputs": [],
   "source": [
    "# implement a function for thresholding 2D arrays\n",
    "from skimage import data\n",
    "from skimage.filters import threshold_otsu\n",
    "\n",
    "def threshold_image(threshold, img):\n",
    "    #thresh = threshold_otsu(img)\n",
    "    binary = img < threshold\n",
    "    return binary\n",
    "\n",
    "\n",
    "# implement a function for visualization of thresholding results\n",
    "\n",
    "def show_threshold(t, img):\n",
    "    b = threshold_image(t, img)\n",
    "\n",
    "    fig, axes = plt.subplots(ncols=3, figsize=(18,5))\n",
    "    ax = axes.ravel()\n",
    "\n",
    "    ax[0] = plt.subplot(1, 3, 1)\n",
    "    ax[1] = plt.subplot(1, 3, 2)\n",
    "    ax[2] = plt.subplot(1, 3, 3, sharex=ax[0], sharey=ax[0])\n",
    "\n",
    "    ax[0].imshow(img, cmap=plt.cm.gray)\n",
    "    ax[0].set_title('Original')\n",
    "    ax[0].axis('off')\n",
    "\n",
    "    ax[1].hist(img.ravel(), bins=256)\n",
    "    ax[1].set_title('Histogram')\n",
    "    ax[1].axvline(t, color='r')\n",
    "\n",
    "    ax[2].imshow(b, cmap=plt.cm.gray) \n",
    "    ax[2].set_title('Thresholded')\n",
    "    ax[2].axis('off')\n",
    "    plt.show()\n",
    "\n",
    "show_threshold(-500, imageArray)\n",
    "show_threshold(-300, imageArray)\n",
    "show_threshold(-150, imageArray)\n"
   ]
  },
  {
   "cell_type": "markdown",
   "metadata": {},
   "source": [
    "# Dice coefficient"
   ]
  },
  {
   "cell_type": "markdown",
   "metadata": {},
   "source": [
    "Dice coefficient is useful to evaluate the results of image segmentation. The Dice coefficient counts pixels that are classified as the object in both manual and automated segmentation (true positives TP), as background in manual segmentation and as the object in automated segmentation (false positive FP), as the object in manual segmentation and as background in automated segmentation (false negative FN) and as background in both manual and automated segmentation (true negative TN)\n",
    "\n",
    "The Dice coefficient is computed as:\n",
    "$$DSC = \\frac{2*TP}{2*TP + FP + FN} $$\n",
    "\n",
    "Exercise 1.2. Please implement the Dice coefficient, and test it on the results of lung CT thresholding. Find the optimal threshold by comparing the Dice coefficients for different threshold  values in the interval [-1000; 0]\n",
    "\n",
    "Exercise 1.3. Please write your reflection on why TN is not used in the Dice coefficient definition?"
   ]
  },
  {
   "cell_type": "code",
   "execution_count": null,
   "metadata": {},
   "outputs": [],
   "source": [
    "# implement the Dice coefficient calculation\n",
    "\n",
    "def dsc(seg, gt):\n",
    "    \n",
    "    seg = np.array(seg, dtype=bool).flatten().flatten()\n",
    "    gt = np.array(gt, dtype=bool).flatten().flatten()\n",
    "\n",
    "    tp = np.sum(seg[gt==True])\n",
    "    fp = np.sum(seg[gt==False])\n",
    "    fn = np.sum(gt[seg==False])\n",
    "\n",
    "    return (tp*2.) / (2.*tp+fp+fn)\n",
    "\n",
    "# implement a function for selecting an optimal threshold using the Dice coefficient calculation function\n",
    "\n",
    "def best_thresh(ran,mask,org):\n",
    "    dsc_score = 0\n",
    "    thresh = None\n",
    "    for i in range(ran[0], ran[1]+1):\n",
    "        temp = dsc(threshold_image(i, org), mask)\n",
    "        if dsc_score < temp:\n",
    "            dsc_score = temp\n",
    "            thresh = i\n",
    "    return (thresh, dsc_score)\n",
    "\n",
    "res = best_thresh((-1000, 0), maskArray, imageArray)\n",
    "print(res)\n",
    "show_threshold(res[0], imageArray)\n",
    "\n",
    "\n",
    "\n"
   ]
  },
  {
   "cell_type": "markdown",
   "metadata": {},
   "source": [
    "# Exercise 2"
   ]
  },
  {
   "cell_type": "markdown",
   "metadata": {},
   "source": [
    "# Connected Component Decomposition"
   ]
  },
  {
   "cell_type": "markdown",
   "metadata": {},
   "source": [
    "Thresholding operation does not only mark lung fields but also non-lung image pixels with low intensity. The aim of this subtask is to implement a simple algorithm for the extraction of lung fields form the thresholded image. The lung fields represent the largest dark connected objects. Let’s try to use this information.\n",
    "\n",
    "Exercise 2.1. Implement the connected component decomposition algorithm. Apply it on the 2D masks representing the optimally thresholded lung CT image. Extract the largest component and discard all other components. Form the lung field mask the correspond to the largest connected components. \n",
    "\n",
    "Exercise 2.2. Plot the connected components and the largest connected components.Compute and print the Dice coefficient of the improved lung segmentation.\n"
   ]
  },
  {
   "cell_type": "code",
   "execution_count": null,
   "metadata": {},
   "outputs": [],
   "source": [
    "# implement a function for connected component decomposition on 2D arrays\n",
    "\n",
    "from email.mime import image\n",
    "from skimage.measure import label\n",
    "\n",
    "def label_lungs(img):\n",
    "    air_seg = label(img)\n",
    "    largest_connected_air = air_seg == np.argmax(np.bincount(air_seg.flat)[1:]) + 1\n",
    "    largest_connected_air += air_seg == np.argmax(np.bincount(air_seg.flat)[2:]) + 1\n",
    "    return largest_connected_air\n"
   ]
  },
  {
   "cell_type": "markdown",
   "metadata": {},
   "source": [
    "# Exercise 3"
   ]
  },
  {
   "cell_type": "markdown",
   "metadata": {},
   "source": [
    "# Morthological operation"
   ]
  },
  {
   "cell_type": "markdown",
   "metadata": {},
   "source": [
    "Lungs on CT are not only air but also vasculature. Thresholding did not capture lung vasculature and lung segmentation is therefore incomplete. Let’s try to apply morphological operations to include vasculature into the lung segmentation.\n",
    "\n",
    "\n",
    "\n",
    "Exercise 3.1. Implement morphological dilation and erosion operations. Perform in a consecutive order one dilation and one erosion on the result of the previous subtask. Visualize the obtained result. Find an optimal sequence of dilations and erosions that can maximally improve the Dice coefficient of the lung segmentation."
   ]
  },
  {
   "cell_type": "code",
   "execution_count": 39,
   "metadata": {},
   "outputs": [
    {
     "ename": "TypeError",
     "evalue": "'int' object is not iterable",
     "output_type": "error",
     "traceback": [
      "\u001b[1;31m---------------------------------------------------------------------------\u001b[0m",
      "\u001b[1;31mTypeError\u001b[0m                                 Traceback (most recent call last)",
      "\u001b[1;32m<ipython-input-39-3259675d3a51>\u001b[0m in \u001b[0;36m<module>\u001b[1;34m\u001b[0m\n\u001b[0;32m     36\u001b[0m \u001b[0mset_s\u001b[0m \u001b[1;33m=\u001b[0m \u001b[1;33m[\u001b[0m\u001b[1;36m0\u001b[0m\u001b[1;33m,\u001b[0m\u001b[1;36m1\u001b[0m\u001b[1;33m]\u001b[0m\u001b[1;33m\u001b[0m\u001b[1;33m\u001b[0m\u001b[0m\n\u001b[0;32m     37\u001b[0m \u001b[1;32mfor\u001b[0m \u001b[0mL\u001b[0m \u001b[1;32min\u001b[0m \u001b[0mrange\u001b[0m\u001b[1;33m(\u001b[0m\u001b[1;36m6\u001b[0m\u001b[1;33m)\u001b[0m\u001b[1;33m:\u001b[0m\u001b[1;33m\u001b[0m\u001b[1;33m\u001b[0m\u001b[0m\n\u001b[1;32m---> 38\u001b[1;33m     \u001b[1;32mfor\u001b[0m \u001b[0msubset\u001b[0m \u001b[1;32min\u001b[0m \u001b[0mitertools\u001b[0m\u001b[1;33m.\u001b[0m\u001b[0mproduct\u001b[0m\u001b[1;33m(\u001b[0m\u001b[0mset_s\u001b[0m\u001b[1;33m,\u001b[0m \u001b[0mL\u001b[0m\u001b[1;33m)\u001b[0m\u001b[1;33m:\u001b[0m\u001b[1;33m\u001b[0m\u001b[1;33m\u001b[0m\u001b[0m\n\u001b[0m\u001b[0;32m     39\u001b[0m         \u001b[0mseqArr\u001b[0m\u001b[1;33m.\u001b[0m\u001b[0mappend\u001b[0m\u001b[1;33m(\u001b[0m\u001b[0msubset\u001b[0m\u001b[1;33m)\u001b[0m\u001b[1;33m\u001b[0m\u001b[1;33m\u001b[0m\u001b[0m\n\u001b[0;32m     40\u001b[0m         \u001b[1;31m#print(subset)\u001b[0m\u001b[1;33m\u001b[0m\u001b[1;33m\u001b[0m\u001b[0m\n",
      "\u001b[1;31mTypeError\u001b[0m: 'int' object is not iterable"
     ]
    }
   ],
   "source": [
    "# implement a function for morphological dilation and erosion on 2D arrays\n",
    "\n",
    "from skimage.morphology import erosion, dilation\n",
    "\n",
    "cross = np.array([[0,1,0],\n",
    "                  [1,1,1],\n",
    "                  [0,1,0]])\n",
    "\n",
    "def de(type, amount, img , con):\n",
    "    for i in range(amount):\n",
    "        if type == \"dilation\":\n",
    "            img = dilation(img, con)\n",
    "        elif type == \"erosion\":\n",
    "            img = erosion(img, con)\n",
    "    return img\n",
    "\n",
    "\n",
    "# visualize the result of connected component decomposition using lung CT thresholded \n",
    "# with the optimal threshold from the previous subtask\n",
    "\n",
    "opt_thresh = best_thresh((-1000, 0), maskArray, imageArray)[0]\n",
    "t_image = threshold_image(opt_thresh, imageArray)\n",
    "ss = label_lungs(t_image)\n",
    "ss = de(\"dilation\", 5, ss, cross)\n",
    "ss = de(\"erosion\", 1, ss, cross)\n",
    "\n",
    "#plt.imshow(ss)\n",
    "#plt.show()\n",
    "\n",
    "# implement a function that finds an optimal sequence of dilation and erosion operations \n",
    "# (restrict your search to max 5 dilation and 5 erosions).\n",
    "\n",
    "import itertools\n",
    "\n",
    "seqArr = []\n",
    "set_s = [0,1]\n",
    "for L in range(6):\n",
    "    for subset in itertools.combinations_with_replacement(set_s, L):\n",
    "        seqArr.append(subset)\n",
    "        #print(subset)\n",
    "\n",
    "def opt_de(t_img, gt, t):\n",
    "    labled = label_lungs(t_img)\n",
    "    dsc_score = 0\n",
    "    d_e = ()\n",
    "    for i, var in enumerate(seqArr):\n",
    "        print(var)\n",
    "        for j, var2 in enumerate(var):\n",
    "            if var2 == 0:\n",
    "                labled = de(\"dilation\",1,labled, cross)\n",
    "            elif var2 == 1:\n",
    "                labled = de(\"erosion\",1,labled, cross)\n",
    "        temp = dsc(labled, gt)\n",
    "        if temp > dsc_score:\n",
    "            dsc_score = temp\n",
    "            d_e = var\n",
    "    return d_e\n",
    "\n",
    "something = opt_de(t_image, maskArray, cross)\n",
    "print (something)\n",
    "\n",
    "label_shit = label_lungs(t_image)\n",
    "\n",
    "x = de(\"erosion\", 3, label_shit, cross)\n",
    "y = de(\"dilation\", 3, label_shit, cross)\n",
    "\n",
    "print(f'x {dsc(x, maskArray)}, y {dsc(y, maskArray)}')\n",
    "\n",
    "plt.imshow(y)\n",
    "plt.show()\n",
    "plt.imshow(x)\n",
    "plt.show()\n",
    "\n",
    "\n",
    "\n",
    "\n",
    "# implement visualization of the optimal sequence morphological operation sequence and print the Dice coefficient"
   ]
  }
 ],
 "metadata": {
  "kernelspec": {
   "display_name": "Python 3.9.7 64-bit",
   "language": "python",
   "name": "python3"
  },
  "language_info": {
   "codemirror_mode": {
    "name": "ipython",
    "version": 3
   },
   "file_extension": ".py",
   "mimetype": "text/x-python",
   "name": "python",
   "nbconvert_exporter": "python",
   "pygments_lexer": "ipython3",
   "version": "3.9.7"
  },
  "vscode": {
   "interpreter": {
    "hash": "175c005f84c591d6832a36ab0c67fbaf235878c3bb3a6d2c9d72cb175fe08a8f"
   }
  }
 },
 "nbformat": 4,
 "nbformat_minor": 2
}
